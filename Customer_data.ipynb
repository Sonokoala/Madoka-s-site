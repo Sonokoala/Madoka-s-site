{
 "cells": [
  {
   "cell_type": "code",
   "execution_count": 41,
   "metadata": {},
   "outputs": [],
   "source": [
    "# 抽象クラス\n",
    "from abc import ABC, abstractmethod\n",
    "\n",
    "class AbstractCustomer(ABC):\n",
    "    @abstractmethod\n",
    "    def get_contact_info(self):\n",
    "        pass"
   ]
  },
  {
   "cell_type": "code",
   "execution_count": 42,
   "metadata": {},
   "outputs": [],
   "source": [
    "\n",
    "# 基本の顧客クラス\n",
    "class Customer(AbstractCustomer):\n",
    "    def __init__(self, name, birthdate, postal_code, has_private_health_insurance, health_insurance_type, email, mobile_number, visit_date, payment_amount):\n",
    "        self.name = name\n",
    "        self.birthdate = birthdate\n",
    "        self.postal_code = postal_code\n",
    "        self.has_private_health_insurance = has_private_health_insurance\n",
    "        self.health_insurance_type = health_insurance_type if has_private_health_insurance else None\n",
    "        self.email = email\n",
    "        self.mobile_number = mobile_number\n",
    "        self.visit_date = visit_date\n",
    "        self.payment_amount = payment_amount\n",
    "\n",
    "    def get_contact_info(self):\n",
    "        return f\"Email: {self.email}, Mobile: {self.mobile_number}\"\n",
    "\n",
    "    def __repr__(self):\n",
    "        return (f\"Customer(name='{self.name}', birthdate='{self.birthdate}', postal_code='{self.postal_code}', \"\n",
    "                f\"has_private_health_insurance={self.has_private_health_insurance}, health_insurance_type='{self.health_insurance_type}', \"\n",
    "                f\"email='{self.email}', mobile_number='{self.mobile_number}', visit_date='{self.visit_date}', payment_amount={self.payment_amount})\")"
   ]
  },
  {
   "cell_type": "code",
   "execution_count": 43,
   "metadata": {},
   "outputs": [],
   "source": [
    "# VIP顧客クラス\n",
    "class VIPCustomer(Customer):\n",
    "    def __init__(self, name, birthdate, postal_code, has_private_health_insurance, health_insurance_type, email, mobile_number, visit_date, payment_amount, vip_level):\n",
    "        super().__init__(name, birthdate, postal_code, has_private_health_insurance, health_insurance_type, email, mobile_number, visit_date, payment_amount)\n",
    "        self.vip_level = vip_level\n",
    "\n",
    "    def get_contact_info(self):\n",
    "        return f\"VIP Level: {self.vip_level}, Email: {self.email}, Mobile: {self.mobile_number}\"\n",
    "\n",
    "    def __repr__(self):\n",
    "        base_repr = super().__repr__()\n",
    "        return f\"{base_repr[:-1]}, vip_level={self.vip_level})\""
   ]
  },
  {
   "cell_type": "code",
   "execution_count": 44,
   "metadata": {},
   "outputs": [],
   "source": [
    "# サンプルデータの作成と操作。顧客データのリストを作成し、基本的な顧客情報とVIP顧客情報をそれぞれ追加します。\n",
    "# 顧客名簿リスト\n",
    "customer_list = []\n",
    "\n",
    "# 顧客を追加する関数\n",
    "def add_customer(customer):\n",
    "    customer_list.append(customer)\n",
    "\n",
    "# サンプル顧客データを追加\n",
    "customer1 = Customer(\"田中太郎\", \"1985-05-20\", \"123-4567\", True, \"MBP\", \"tanaka.taro@example.com\", \"080-1234-5678\", \"2023-10-01\", 10000)\n",
    "vip_customer1 = VIPCustomer(\"木村優子\", \"1983-10-15\", \"123-4567\", True, \"CBH\", \"kimura.yuko@example.com\", \"080-2345-6789\", \"2023-10-04\", 20000, \"Gold\")\n",
    "\n",
    "add_customer(customer1)\n",
    "add_customer(vip_customer1)\n"
   ]
  },
  {
   "cell_type": "code",
   "execution_count": 45,
   "metadata": {},
   "outputs": [
    {
     "name": "stdout",
     "output_type": "stream",
     "text": [
      "顧客名簿 - 6月生まれ:\n"
     ]
    }
   ],
   "source": [
    "# 月ごとに誕生日を迎える顧客のリストアップ\n",
    "from datetime import datetime\n",
    "\n",
    "# 誕生月が一致する顧客をフィルタリングする関数\n",
    "def list_customers_with_birthday_in_month(month, customers):\n",
    "    birthday_list = []\n",
    "    for customer in customers:\n",
    "        birth_month = datetime.strptime(customer.birthdate, \"%Y-%m-%d\").month\n",
    "        if birth_month == month:\n",
    "            birthday_list.append(customer)\n",
    "    return birthday_list\n",
    "\n",
    "# 現在の月を取得\n",
    "current_month = datetime.now().month\n",
    "\n",
    "# その月の誕生日を迎える顧客を取得\n",
    "birthday_customers = list_customers_with_birthday_in_month(current_month, customer_list)\n",
    "\n",
    "# 誕生日を迎える顧客名簿の表示\n",
    "print(f\"顧客名簿 - {current_month}月生まれ:\")\n",
    "for customer in birthday_customers:\n",
    "    print(customer)"
   ]
  },
  {
   "cell_type": "code",
   "execution_count": 46,
   "metadata": {},
   "outputs": [
    {
     "name": "stdout",
     "output_type": "stream",
     "text": [
      "Email: tanaka.taro@example.com, Mobile: 080-1234-5678\n",
      "VIP Level: Gold, Email: kimura.yuko@example.com, Mobile: 080-2345-6789\n"
     ]
    }
   ],
   "source": [
    "# ポリモーフィズムのデモ\n",
    "# リストに顧客を追加\n",
    "customers = [customer1, vip_customer1]\n",
    "\n",
    "# ポリモーフィズムのデモ\n",
    "for cust in customers:\n",
    "    print(cust.get_contact_info())"
   ]
  },
  {
   "cell_type": "code",
   "execution_count": null,
   "metadata": {},
   "outputs": [],
   "source": []
  }
 ],
 "metadata": {
  "kernelspec": {
   "display_name": "Python 3",
   "language": "python",
   "name": "python3"
  },
  "language_info": {
   "codemirror_mode": {
    "name": "ipython",
    "version": 3
   },
   "file_extension": ".py",
   "mimetype": "text/x-python",
   "name": "python",
   "nbconvert_exporter": "python",
   "pygments_lexer": "ipython3",
   "version": "3.12.3"
  }
 },
 "nbformat": 4,
 "nbformat_minor": 2
}
