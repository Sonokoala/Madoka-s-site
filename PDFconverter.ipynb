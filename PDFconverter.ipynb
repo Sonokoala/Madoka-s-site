{
 "cells": [
  {
   "cell_type": "code",
   "execution_count": 13,
   "metadata": {},
   "outputs": [
    {
     "name": "stdout",
     "output_type": "stream",
     "text": [
      "Successfully converted /Users/madoka/trantura_ondisk/practice/reserch 2  ass1/pdf_articles/Bladder teaching protocol.pdf to /Users/madoka/trantura_ondisk/practice/reserch 2  ass1/word_articles/Bladder teaching protocol.docx\n",
      "Successfully converted /Users/madoka/trantura_ondisk/practice/reserch 2  ass1/pdf_articles/Prostate Teaching Protocol.docx.pdf to /Users/madoka/trantura_ondisk/practice/reserch 2  ass1/word_articles/Prostate Teaching Protocol.docx.docx\n",
      "Successfully converted /Users/madoka/trantura_ondisk/practice/reserch 2  ass1/pdf_articles/Abdominal Teaching Protocol 2024.pdf to /Users/madoka/trantura_ondisk/practice/reserch 2  ass1/word_articles/Abdominal Teaching Protocol 2024.docx\n",
      "Successfully converted /Users/madoka/trantura_ondisk/practice/reserch 2  ass1/pdf_articles/Naoshi Nishida2023.pdf to /Users/madoka/trantura_ondisk/practice/reserch 2  ass1/word_articles/Naoshi Nishida2023.docx\n",
      "Successfully converted /Users/madoka/trantura_ondisk/practice/reserch 2  ass1/pdf_articles/Siqiong Yao.pdf to /Users/madoka/trantura_ondisk/practice/reserch 2  ass1/word_articles/Siqiong Yao.docx\n",
      "Successfully converted /Users/madoka/trantura_ondisk/practice/reserch 2  ass1/pdf_articles/Week 1 Orientation Bladder and Prostate Lab Plan.pdf to /Users/madoka/trantura_ondisk/practice/reserch 2  ass1/word_articles/Week 1 Orientation Bladder and Prostate Lab Plan.docx\n",
      "Successfully converted /Users/madoka/trantura_ondisk/practice/reserch 2  ass1/pdf_articles/SEONG HO PARK2020.pdf to /Users/madoka/trantura_ondisk/practice/reserch 2  ass1/word_articles/SEONG HO PARK2020.docx\n",
      "Successfully converted /Users/madoka/trantura_ondisk/practice/reserch 2  ass1/pdf_articles/Farzan Vahedifard-2023.pdf to /Users/madoka/trantura_ondisk/practice/reserch 2  ass1/word_articles/Farzan Vahedifard-2023.docx\n",
      "Successfully converted /Users/madoka/trantura_ondisk/practice/reserch 2  ass1/pdf_articles/Ting Jiang_2023.pdf to /Users/madoka/trantura_ondisk/practice/reserch 2  ass1/word_articles/Ting Jiang_2023.docx\n"
     ]
    }
   ],
   "source": [
    "import pdfplumber\n",
    "from docx import Document\n",
    "import os\n",
    "\n",
    "def pdf_to_word(pdf_path, word_path):\n",
    "    \"\"\"Extract text from a PDF file and save it to a Word document.\n",
    "\n",
    "    Args:\n",
    "        pdf_path (str): Path to the PDF file.\n",
    "        word_path (str): Path to save the Word document.\n",
    "    \"\"\"\n",
    "    with pdfplumber.open(pdf_path) as pdf:\n",
    "        # Create a new Word document\n",
    "        doc = Document()\n",
    "        \n",
    "        # Extract text from each page of the PDF\n",
    "        for page in pdf.pages:\n",
    "            text = page.extract_text()\n",
    "            if text:\n",
    "                # Add the text to the Word document\n",
    "                doc.add_paragraph(text)\n",
    "        \n",
    "        # Save the Word document\n",
    "        doc.save(word_path)\n",
    "\n",
    "# Set the directories for the PDF files and output Word files\n",
    "pdf_dir = '/Users/madoka/trantura_ondisk/practice/reserch 2  ass1/pdf_articles'\n",
    "word_dir = '/Users/madoka/trantura_ondisk/practice/reserch 2  ass1/word_articles'\n",
    "\n",
    "# Create the output directory if it doesn't exist\n",
    "os.makedirs(word_dir, exist_ok=True)\n",
    "\n",
    "# Process each PDF file in the directory\n",
    "for filename in os.listdir(pdf_dir):\n",
    "    if filename.endswith(\".pdf\"):\n",
    "        # Construct the full path to the PDF file\n",
    "        pdf_path = os.path.join(pdf_dir, filename)\n",
    "        # Construct the output Word file name\n",
    "        word_filename = os.path.splitext(filename)[0] + \".docx\"\n",
    "        # Construct the full path to the output Word file\n",
    "        word_path = os.path.join(word_dir, word_filename)\n",
    "        \n",
    "        # Extract the text from the PDF and save it to a Word document\n",
    "        pdf_to_word(pdf_path, word_path)\n",
    "        print(f\"Successfully converted {pdf_path} to {word_path}\")"
   ]
  }
 ],
 "metadata": {
  "kernelspec": {
   "display_name": "myenv",
   "language": "python",
   "name": "python3"
  },
  "language_info": {
   "codemirror_mode": {
    "name": "ipython",
    "version": 3
   },
   "file_extension": ".py",
   "mimetype": "text/x-python",
   "name": "python",
   "nbconvert_exporter": "python",
   "pygments_lexer": "ipython3",
   "version": "3.11.0"
  }
 },
 "nbformat": 4,
 "nbformat_minor": 2
}
